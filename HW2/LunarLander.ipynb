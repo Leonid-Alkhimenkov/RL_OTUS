{
  "cells": [
    {
      "cell_type": "code",
      "source": [
        "# @title установка драйверов\n",
        "!apt-get update > /dev/null 2>&1\n",
        "!apt-get install -y xvfb python-opengl ffmpeg > /dev/null 2>&1\n",
        "!apt-get install -y swig build-essential python-dev python3-dev > /dev/null 2>&1\n",
        "!apt-get install x11-utils > /dev/null 2>&1\n",
        "!apt-get install xvfb > /dev/null 2>&1"
      ],
      "metadata": {
        "id": "5d07VABaop61"
      },
      "execution_count": null,
      "outputs": []
    },
    {
      "cell_type": "code",
      "source": [
        "# @title установка библиотек\n",
        "%%capture\n",
        "!pip install rarfile --quiet\n",
        "!pip install stable-baselines3[extra] --quiet\n",
        "!pip install ale-py --quiet\n",
        "!pip install gym[all] --quiet\n",
        "!pip install pyvirtualdisplay --quiet\n",
        "!pip install pyglet --quiet\n",
        "!pip install pygame --quiet\n",
        "!pip install minigrid --quiet\n",
        "!pip install -q swig --quiet\n",
        "!pip install -q gymnasium[box2d] --quiet\n",
        "!pip install 'minigrid<=2.1.1' --quiet\n",
        "!pip3 install box2d-py --quiet"
      ],
      "metadata": {
        "id": "JPqvhm67opoh"
      },
      "execution_count": null,
      "outputs": []
    },
    {
      "cell_type": "code",
      "execution_count": 13,
      "metadata": {
        "ExecuteTime": {
          "end_time": "2023-08-16T19:09:46.329318Z",
          "start_time": "2023-08-16T19:09:46.326314Z"
        },
        "id": "x_GLJM6kFN65"
      },
      "outputs": [],
      "source": [
        "import numpy as np\n",
        "import math\n",
        "import random\n",
        "import matplotlib\n",
        "import matplotlib.pyplot as plt\n",
        "from collections import namedtuple, deque\n",
        "from itertools import count\n",
        "\n",
        "import sys\n",
        "import gymnasium\n",
        "sys.modules[\"gym\"] = gymnasium\n",
        "\n",
        "\n",
        "\n",
        "import gymnasium as gym\n",
        "from gym import spaces\n",
        "from gym.envs.box2d.lunar_lander import *\n",
        "\n",
        "from tqdm import tqdm\n",
        "import torch\n",
        "import torch.nn as nn\n",
        "import torch.optim as optim\n",
        "import torch.nn.functional as F\n",
        "\n",
        "from IPython import display\n",
        "\n",
        "device = torch.device(\"cuda\" if torch.cuda.is_available() else \"cpu\")"
      ]
    },
    {
      "cell_type": "code",
      "execution_count": 4,
      "metadata": {
        "ExecuteTime": {
          "end_time": "2023-08-16T15:47:47.679542Z",
          "start_time": "2023-08-16T15:47:47.672382Z"
        },
        "colab": {
          "base_uri": "https://localhost:8080/",
          "height": 35
        },
        "id": "AynW584uFN66",
        "outputId": "06809e23-6c05-40bb-8708-d83cc4360c60"
      },
      "outputs": [
        {
          "output_type": "execute_result",
          "data": {
            "text/plain": [
              "'2.5.1+cu124'"
            ],
            "application/vnd.google.colaboratory.intrinsic+json": {
              "type": "string"
            }
          },
          "metadata": {},
          "execution_count": 4
        }
      ],
      "source": [
        "torch.__version__"
      ]
    },
    {
      "cell_type": "code",
      "execution_count": 5,
      "metadata": {
        "colab": {
          "base_uri": "https://localhost:8080/",
          "height": 35
        },
        "id": "sK8UvgLIFN66",
        "outputId": "234e00f9-6b46-44d9-b48c-0b5aad8ad4ff"
      },
      "outputs": [
        {
          "output_type": "execute_result",
          "data": {
            "text/plain": [
              "'1.0.0'"
            ],
            "application/vnd.google.colaboratory.intrinsic+json": {
              "type": "string"
            }
          },
          "metadata": {},
          "execution_count": 5
        }
      ],
      "source": [
        "gym.__version__"
      ]
    },
    {
      "cell_type": "code",
      "execution_count": 7,
      "metadata": {
        "ExecuteTime": {
          "end_time": "2023-08-16T15:47:47.679861Z",
          "start_time": "2023-08-16T15:47:47.679312Z"
        },
        "colab": {
          "base_uri": "https://localhost:8080/"
        },
        "id": "-EwthhMwFN66",
        "outputId": "07bec04c-5fbe-49ae-e5d5-836b0d1cddf5"
      },
      "outputs": [
        {
          "output_type": "execute_result",
          "data": {
            "text/plain": [
              "device(type='cuda')"
            ]
          },
          "metadata": {},
          "execution_count": 7
        }
      ],
      "source": [
        "device"
      ]
    },
    {
      "cell_type": "code",
      "execution_count": 8,
      "metadata": {
        "ExecuteTime": {
          "end_time": "2023-08-16T19:10:57.755815Z",
          "start_time": "2023-08-16T19:10:57.751055Z"
        },
        "id": "sjeEvYsHFN66"
      },
      "outputs": [],
      "source": [
        "Transition = namedtuple('Transition', ('state', 'action', 'next_state', 'reward'))"
      ]
    },
    {
      "cell_type": "code",
      "execution_count": 9,
      "metadata": {
        "ExecuteTime": {
          "end_time": "2023-08-16T19:10:58.367208Z",
          "start_time": "2023-08-16T19:10:58.364842Z"
        },
        "id": "3bGgpPOBFN67"
      },
      "outputs": [],
      "source": [
        "class ReplayMemory(object):\n",
        "\n",
        "    def __init__(self, capacity):\n",
        "        self.memory = deque([], maxlen=capacity)\n",
        "\n",
        "    def push(self, *args):\n",
        "        \"\"\"Save a transition\"\"\"\n",
        "        self.memory.append(Transition(*args))\n",
        "\n",
        "    def sample(self, batch_size):\n",
        "        return random.sample(self.memory, batch_size)\n",
        "\n",
        "    def __len__(self):\n",
        "        return len(self.memory)"
      ]
    },
    {
      "cell_type": "code",
      "execution_count": 17,
      "metadata": {
        "ExecuteTime": {
          "end_time": "2023-08-16T19:11:01.401182Z",
          "start_time": "2023-08-16T19:11:01.399161Z"
        },
        "id": "Wr-xjyJUFN67"
      },
      "outputs": [],
      "source": [
        "class DQN(nn.Module):\n",
        "\n",
        "    def __init__(self, n_observations, n_actions):\n",
        "        super(DQN, self).__init__()\n",
        "        self.layer1 = nn.Linear(n_observations, 128)\n",
        "        self.layer2 = nn.Linear(128, 128)\n",
        "        self.layer3 = nn.Linear(128, n_actions)\n",
        "\n",
        "    # Called with either one element to determine next action, or a batch\n",
        "    # during optimization. Returns tensor([[left0exp,right0exp]...]).\n",
        "    def forward(self, x):\n",
        "        x = F.relu(self.layer1(x))\n",
        "        x = F.relu(self.layer2(x))\n",
        "        return self.layer3(x)"
      ]
    },
    {
      "cell_type": "code",
      "execution_count": 41,
      "metadata": {
        "ExecuteTime": {
          "end_time": "2023-08-16T19:11:04.810594Z",
          "start_time": "2023-08-16T19:11:04.803012Z"
        },
        "id": "jK_U8mbDFN67"
      },
      "outputs": [],
      "source": [
        "# BATCH_SIZE - количество эпизодов, отобранных из буфера воспроизведения\n",
        "# GAMMA - коэффициент дисконтирования\n",
        "# EPS_START - начальное значение эпсилон\n",
        "# EPS_END - конечное значение эпсилон\n",
        "# EPS_DECAY - скорость экспоненциального спада эпсилон, чем больше - тем медленнее падение\n",
        "# TAU - скорость обновления целевой сети\n",
        "# LR - скорость обучения оптимизатора ``AdamW``.\n",
        "\n",
        "BATCH_SIZE = 512\n",
        "GAMMA = 0.99\n",
        "EPS_START = 1.0\n",
        "EPS_END = 0.05\n",
        "EPS_DECAY = 900\n",
        "TAU = 0.05\n",
        "LR = 1e-4\n",
        "FULL_MEMORY_LENGTH = 3500\n",
        "\n",
        "env = gym.make(\"LunarLander-v3\", continuous=False, gravity=-10.0,\n",
        "               enable_wind=False, wind_power=15.0, turbulence_power=1.5, render_mode=\"rgb_array\")\n",
        "\n",
        "n_actions = env.action_space.n\n",
        "state, info = env.reset()\n",
        "n_observations = len(state)\n",
        "\n",
        "# Инициилизировать сети: целевую и политики\n",
        "policy_net = DQN(n_observations, n_actions).to(device)\n",
        "target_net = DQN(n_observations, n_actions).to(device)\n",
        "\n",
        "target_net.load_state_dict(policy_net.state_dict())\n",
        "\n",
        "optimizer = optim.AdamW(policy_net.parameters(), lr=LR, amsgrad=True)\n",
        "\n",
        "memory = ReplayMemory(FULL_MEMORY_LENGTH)\n",
        "\n",
        "\n",
        "steps_done = 0\n",
        "\n",
        "episode_durations = []"
      ]
    },
    {
      "cell_type": "code",
      "execution_count": 42,
      "metadata": {
        "id": "Kafmne99FN67"
      },
      "outputs": [],
      "source": [
        "def select_action(state):\n",
        "    global steps_done  # глобальный шаги для убывания epsilon\n",
        "    sample = random.random()\n",
        "\n",
        "    eps_threshold = EPS_END + (EPS_START - EPS_END) * \\\n",
        "        math.exp(-1. * steps_done / EPS_DECAY)\n",
        "\n",
        "    steps_done += 1\n",
        "\n",
        "    if sample > eps_threshold:\n",
        "        with torch.no_grad():\n",
        "            # t.max(1) вернет наибольшее значение столбца в каждой строке.\n",
        "            # Второй столбец в результате max - это индекс того места,\n",
        "            # где был найден максимальный элемент,\n",
        "            # поэтому мы выбираем действие с наибольшим ожидаемым вознаграждением.\n",
        "            return policy_net(state).max(1)[1].view(1, 1)\n",
        "    else:\n",
        "        return torch.tensor([[env.action_space.sample()]], device=device, dtype=torch.long)"
      ]
    },
    {
      "cell_type": "code",
      "execution_count": 43,
      "metadata": {
        "ExecuteTime": {
          "end_time": "2023-08-16T19:11:10.229685Z",
          "start_time": "2023-08-16T19:11:10.205614Z"
        },
        "id": "0OqqbKu6FN67"
      },
      "outputs": [],
      "source": [
        "def optimize_model(batch_size: int):\n",
        "    if len(memory) < batch_size:\n",
        "        return\n",
        "\n",
        "    transitions = memory.sample(batch_size)\n",
        "    batch = Transition(*zip(*transitions))\n",
        "\n",
        "\n",
        "    non_final_mask = torch.tensor(tuple(map(lambda s: s is not None,\n",
        "                                        batch.next_state)), device=device, dtype=torch.bool)\n",
        "\n",
        "    non_final_next_states = torch.cat([s for s in batch.next_state\n",
        "                                                if s is not None])\n",
        "\n",
        "    state_batch = torch.cat(batch.state)\n",
        "    action_batch = torch.cat(batch.action)\n",
        "    reward_batch = torch.cat(batch.reward)\n",
        "\n",
        "    # Вычислить Q(s_t, a) - модель вычисляет Q(s_t),\n",
        "    # затем мы выбираем столбцы предпринятых действий.\n",
        "    # Это те действия, которые были бы предприняты для каждого состояния партии в соответствии с policy_net\n",
        "    state_action_values = policy_net(state_batch).gather(1, action_batch)\n",
        "\n",
        "    # Вычислить V(s_{t+1}) для всех следующих состояний.\n",
        "    # Ожидаемые значения действий для не_финальных_следующих_состояний вычисляются\n",
        "    # на основе \"старшей\" целевой_сети; выбирается их наилучшее вознаграждение с помощью max(1)[0].\n",
        "    # Это объединяется по маске, так что мы будем иметь либо ожидаемое значение состояния,\n",
        "    # либо 0, если состояние было финальным.\n",
        "    next_state_values = torch.zeros(batch_size, device=device)\n",
        "    with torch.no_grad():\n",
        "        next_state_values[non_final_mask] = target_net(non_final_next_states).max(1)[0]\n",
        "    expected_state_action_values = (next_state_values * GAMMA) + reward_batch\n",
        "\n",
        "    criterion = nn.SmoothL1Loss()\n",
        "    loss = criterion(state_action_values, expected_state_action_values.unsqueeze(1))\n",
        "\n",
        "    optimizer.zero_grad()\n",
        "    loss.backward()\n",
        "    torch.nn.utils.clip_grad_value_(policy_net.parameters(), 100)\n",
        "\n",
        "    optimizer.step()"
      ]
    },
    {
      "cell_type": "code",
      "execution_count": 44,
      "metadata": {
        "colab": {
          "base_uri": "https://localhost:8080/",
          "height": 431
        },
        "id": "fpgnZS_xFN67",
        "outputId": "ae131b64-606b-471c-95f4-ea3401b955d1"
      },
      "outputs": [
        {
          "output_type": "stream",
          "name": "stderr",
          "text": [
            "100%|██████████| 1001/1001 [39:29<00:00,  2.37s/it]\n"
          ]
        },
        {
          "output_type": "stream",
          "name": "stdout",
          "text": [
            "Complete\n"
          ]
        },
        {
          "output_type": "display_data",
          "data": {
            "text/plain": [
              "<Figure size 640x480 with 1 Axes>"
            ],
            "image/png": "[encoded data removed]"
          },
          "metadata": {}
        }
      ],
      "source": [
        "if torch.cuda.is_available():\n",
        "    num_episodes = 1001\n",
        "else:\n",
        "    num_episodes = 501\n",
        "total_reward = []\n",
        "\n",
        "for i_episode in tqdm(range(num_episodes)):\n",
        "    episode_reward = 0\n",
        "    state, info = env.reset()\n",
        "    state = torch.tensor(state, dtype=torch.float32, device=device).unsqueeze(0)\n",
        "\n",
        "    if i_episode == num_episodes - 1:\n",
        "        img = plt.imshow(env.render())\n",
        "    for t in count():\n",
        "        action = select_action(state)\n",
        "\n",
        "        observation, reward, terminated, truncated, _ = env.step(action.item())\n",
        "        episode_reward += reward\n",
        "        if i_episode == num_episodes - 1:\n",
        "            frame = env.render()\n",
        "            img.set_data(frame)\n",
        "            display.display(plt.gcf())\n",
        "            display.clear_output(wait=True)\n",
        "\n",
        "        done = terminated or truncated\n",
        "\n",
        "        if terminated:\n",
        "            next_state = None\n",
        "        else:\n",
        "            next_state = torch.tensor(observation, dtype=torch.float32, device=device).unsqueeze(0)\n",
        "\n",
        "        if i_episode != num_episodes - 1:\n",
        "            reward = torch.tensor([reward], device=device)\n",
        "            memory.push(state, action, next_state, reward)\n",
        "\n",
        "            state = next_state\n",
        "\n",
        "            optimize_model(batch_size=128)\n",
        "\n",
        "            # делаем \"мягкое\" обновление весов\n",
        "            # θ′ ← τ θ + (1 −τ )θ′\n",
        "            target_net_state_dict = target_net.state_dict()\n",
        "            policy_net_state_dict = policy_net.state_dict()\n",
        "\n",
        "            for key in policy_net_state_dict:\n",
        "                target_net_state_dict[key] = policy_net_state_dict[key]*TAU + target_net_state_dict[key]*(1-TAU)\n",
        "            target_net.load_state_dict(target_net_state_dict)\n",
        "\n",
        "        if done:\n",
        "            episode_durations.append(t + 1)\n",
        "            total_reward.append(episode_reward)\n",
        "            break\n",
        "\n",
        "print('Complete')\n"
      ]
    },
    {
      "cell_type": "code",
      "execution_count": 45,
      "metadata": {
        "colab": {
          "base_uri": "https://localhost:8080/",
          "height": 472
        },
        "id": "8bpGM0pmFN68",
        "outputId": "af72c0e6-0831-4a80-d358-02700ddd54f7"
      },
      "outputs": [
        {
          "output_type": "display_data",
          "data": {
            "text/plain": [
              "<Figure size 640x480 with 1 Axes>"
            ],
            "image/png": "[encoded data removed]"
          },
          "metadata": {}
        }
      ],
      "source": [
        "# Вычисление скользящего среднего\n",
        "window_size = 50\n",
        "moving_avg = np.convolve(total_reward, np.ones(window_size)/window_size, mode='valid')\n",
        "plt.plot(moving_avg)\n",
        "plt.title('DQN + ReplayBuffer')\n",
        "plt.xlabel('Episode')\n",
        "plt.ylabel('Reward')\n",
        "plt.show()"
      ]
    }
  ],
  "metadata": {
    "kernelspec": {
      "display_name": "Python 3",
      "name": "python3"
    },
    "language_info": {
      "codemirror_mode": {
        "name": "ipython",
        "version": 3
      },
      "file_extension": ".py",
      "mimetype": "text/x-python",
      "name": "python",
      "nbconvert_exporter": "python",
      "pygments_lexer": "ipython3",
      "version": "3.8.8"
    },
    "toc": {
      "base_numbering": 1,
      "nav_menu": {},
      "number_sections": true,
      "sideBar": true,
      "skip_h1_title": false,
      "title_cell": "Table of Contents",
      "title_sidebar": "Contents",
      "toc_cell": false,
      "toc_position": {},
      "toc_section_display": true,
      "toc_window_display": false
    },
    "colab": {
      "provenance": [],
      "gpuType": "T4"
    },
    "accelerator": "GPU"
  },
  "nbformat": 4,
  "nbformat_minor": 0
}